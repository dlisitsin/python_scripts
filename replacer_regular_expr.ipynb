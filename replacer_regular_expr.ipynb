{
 "cells": [
  {
   "cell_type": "markdown",
   "metadata": {},
   "source": [
    "Скрипт для обработки регулярных выражений. "
   ]
  },
  {
   "cell_type": "code",
   "execution_count": 1,
   "metadata": {},
   "outputs": [],
   "source": [
    "import pandas as pd\n",
    "import numpy as np"
   ]
  },
  {
   "cell_type": "code",
   "execution_count": 2,
   "metadata": {},
   "outputs": [],
   "source": [
    "file_in = 'D:\\\\Work\\\\data\\\\data_in.csv'\n" ,
    "file_out = 'D:\\\\Work\\\\data\\\\data_out.csv'"
   ]
  },
  {
   "cell_type": "code",
   "execution_count": 3,
   "metadata": {},
   "outputs": [],
   "source": [
    "def replacer(file_in, file_out, size):\n",
    "    rows = 0\n",
    "    for chunk in pd.read_csv(file_in, chunksize = size, sep = ';', memory_map = True, \n",
    "                             error_bad_lines = False, encoding = 'utf-8', skiprows = range(1, 28594037)):  \n",
    "        chunk = chunk.loc[(chunk['start_dt_time'].str.contains('\\d{4}(-|\\/)\\d{2}(-|\\/)\\d{2}', regex = True, na = False)) & \n",
    "                            (chunk['end_dt_time'].str.contains('\\d{4}(-|\\/)\\d{2}(-|\\/)\\d{2}', regex = True, na = False)) & \n",
    "                             (chunk['dt_time'].str.contains('\\d{4}(-|\\/)\\d{2}(-|\\/)\\d{2}', regex = True, na = False))]\n",
    "        chunk1 = chunk.replace(to_replace ='\"', value ='', regex = True)\n",
    "        chunk1.to_csv(file_out, encoding = 'utf-8', mode = 'a', header = None, index = False, sep = ';')  \n",
    "        rows += size\n",
    "        if rows <= 50000000: \n",
    "            pass\n",
    "        else:\n",
    "            break"
   ]
  },
  {
   "cell_type": "code",
   "execution_count": 4,
   "metadata": {},
   "outputs": [],
   "source": [
    "replacer(file_in, file_out, 500000)"
   ]
  }
 ],
 "metadata": {
  "kernelspec": {
   "display_name": "Python 3",
   "language": "python",
   "name": "python3"
  },
  "language_info": {
   "codemirror_mode": {
    "name": "ipython",
    "version": 3
   },
   "file_extension": ".py",
   "mimetype": "text/x-python",
   "name": "python",
   "nbconvert_exporter": "python",
   "pygments_lexer": "ipython3",
   "version": "3.8.3"
  }
 },
 "nbformat": 4,
 "nbformat_minor": 2
}
